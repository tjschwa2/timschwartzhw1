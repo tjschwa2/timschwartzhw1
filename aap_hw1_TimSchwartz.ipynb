{
 "cells": [
  {
   "cell_type": "markdown",
   "metadata": {
    "Collapsed": "false"
   },
   "source": [
    "# AAP Homework 1\n",
    "\n",
    "Tim Schwartz"
   ]
  },
  {
   "cell_type": "markdown",
   "metadata": {
    "Collapsed": "false"
   },
   "source": [
    "Import Libraries; plot inline"
   ]
  },
  {
   "cell_type": "code",
   "execution_count": 1,
   "metadata": {
    "Collapsed": "false"
   },
   "outputs": [],
   "source": [
    "import numpy as np\n",
    "import pandas as pd\n",
    "from sklearn import preprocessing\n",
    "from sklearn.compose import ColumnTransformer\n",
    "from sklearn.pipeline import Pipeline, make_pipeline\n",
    "from sklearn.preprocessing import StandardScaler, OneHotEncoder\n",
    "from sklearn.linear_model import LogisticRegression, LogisticRegressionCV\n",
    "from sklearn.model_selection import train_test_split\n",
    "import seaborn as sns\n",
    "import matplotlib.pyplot as plt\n",
    "import matplotlib.image as mpimg\n",
    "from sklearn.metrics import confusion_matrix\n",
    "from sklearn.metrics import plot_confusion_matrix\n",
    "\n",
    "%matplotlib inline"
   ]
  },
  {
   "cell_type": "markdown",
   "metadata": {},
   "source": [
    "Load the Data"
   ]
  },
  {
   "cell_type": "code",
   "execution_count": 2,
   "metadata": {},
   "outputs": [],
   "source": [
    "tax_df = pd.read_csv(\"data/raw/TaxInfo.csv\")"
   ]
  },
  {
   "cell_type": "markdown",
   "metadata": {},
   "source": [
    "Check the info() to make sure it matches the example"
   ]
  },
  {
   "cell_type": "code",
   "execution_count": 3,
   "metadata": {},
   "outputs": [
    {
     "name": "stdout",
     "output_type": "stream",
     "text": [
      "<class 'pandas.core.frame.DataFrame'>\n",
      "RangeIndex: 1004 entries, 0 to 1003\n",
      "Data columns (total 10 columns):\n",
      " #   Column          Non-Null Count  Dtype \n",
      "---  ------          --------------  ----- \n",
      " 0   HHI             1004 non-null   int64 \n",
      " 1   HHDL            1004 non-null   int64 \n",
      " 2   Married         1004 non-null   int64 \n",
      " 3   CollegGrads     1004 non-null   int64 \n",
      " 4   AHHAge          1004 non-null   int64 \n",
      " 5   Cars            1004 non-null   int64 \n",
      " 6   Filed_2017      1004 non-null   int64 \n",
      " 7   Filed_2016      1004 non-null   int64 \n",
      " 8   Filed_2015      1004 non-null   int64 \n",
      " 9   PoliticalParty  1004 non-null   object\n",
      "dtypes: int64(9), object(1)\n",
      "memory usage: 78.6+ KB\n"
     ]
    }
   ],
   "source": [
    "tax_df.info()"
   ]
  },
  {
   "cell_type": "markdown",
   "metadata": {
    "Collapsed": "false"
   },
   "source": [
    "## Automated EDA\n",
    "\n",
    "Giving the Pandas Profiling and Sweet Viz a try.  As advised, I did this in JupyterNotebooks and then switched back to JupyterLab."
   ]
  },
  {
   "cell_type": "code",
   "execution_count": 4,
   "metadata": {
    "Collapsed": "false"
   },
   "outputs": [],
   "source": [
    "#from pandas_profiling import ProfileReport\n",
    "#profile = ProfileReport(tax_df, title=\"Pandas Profiling Report\")\n",
    "#profile.to_file(\"output/pandas_profiling_report.html\")"
   ]
  },
  {
   "cell_type": "code",
   "execution_count": 5,
   "metadata": {},
   "outputs": [],
   "source": [
    "#import sweetviz\n",
    "#report = sweetviz.analyze(tax_df)\n",
    "#report.show_html(\"output/sweetviz_report.html\")"
   ]
  },
  {
   "cell_type": "markdown",
   "metadata": {},
   "source": [
    "## Preprocess And Creating Pipeline\n",
    "\n",
    "Breaking it up by object/number (like the examples) does seem good in general, but for this case, I am going to select them manually (at least at first).\n",
    "\n",
    "The following look like a good fit for Standard Scaler:\n",
    "\n",
    "HHI - household income<br />\n",
    "HHDL - household debt level<br />\n",
    "CollegGrads - number of college grads in the household<br />\n",
    "AHHAge - average age of people in the household<br />\n",
    "Cars - number of cars in the household<br />\n",
    "\n",
    "The following look like a good fit for One Hot Encoder:\n",
    "\n",
    "Married - categorical with a few levels<br />\n",
    "Filed_2017 - 1 means they filed a tax return with the IRS for 2017<br />\n",
    "Filed_2016 - 1 means they filed a tax return with the IRS for 2016<br />\n",
    "Filed_2015 - 1 means they filed a tax return with the IRS for 2015<br />\n",
    "\n",
    "***PoliticalParty - categorical with 3 levels*** Left out for now.\n",
    "\n",
    "\n",
    "Since it is mostly copy/paste, I just had to try the other penalities.\n"
   ]
  },
  {
   "cell_type": "code",
   "execution_count": 6,
   "metadata": {},
   "outputs": [],
   "source": [
    "numeric_cols = ['HHI', 'HHDL', 'CollegGrads', 'AHHAge', 'Cars']\n",
    "categorical_cols = ['Married', 'Filed_2017', 'Filed_2016', 'Filed_2015']\n",
    "\n",
    "numeric_transformer = StandardScaler()\n",
    "categorical_transformer = OneHotEncoder(handle_unknown='ignore')\n",
    "\n",
    "preprocessor = ColumnTransformer(\n",
    "    transformers=[\n",
    "        ('num', numeric_transformer, numeric_cols),\n",
    "        ('cat', categorical_transformer, categorical_cols)])\n",
    "\n",
    "clf_model_liblinear = LogisticRegression(penalty='l2', C=1, solver='liblinear', max_iter=500)\n",
    "clf_model_lbfgs = LogisticRegression(penalty='l2', C=1, solver='lbfgs', max_iter=500)\n",
    "clf_model_newton = LogisticRegression(penalty='l2', C=1, solver='newton-cg', max_iter=500)\n",
    "clf_model_sag = LogisticRegression(penalty='l2', C=1, solver='sag', max_iter=500)\n",
    "clf_model_saga = LogisticRegression(penalty='l2', C=1, solver='saga', max_iter=500)\n",
    "\n",
    "clf_liblinear = Pipeline(steps=[('preprocessor', preprocessor),\n",
    "                      ('classifier', clf_model_liblinear)])\n",
    "clf_lbfgs = Pipeline(steps=[('preprocessor', preprocessor),\n",
    "                      ('classifier', clf_model_lbfgs)])\n",
    "clf_newton = Pipeline(steps=[('preprocessor', preprocessor),\n",
    "                      ('classifier', clf_model_newton)])\n",
    "clf_sag = Pipeline(steps=[('preprocessor', preprocessor),\n",
    "                      ('classifier', clf_model_sag)])\n",
    "clf_saga = Pipeline(steps=[('preprocessor', preprocessor),\n",
    "                      ('classifier', clf_model_saga)])"
   ]
  },
  {
   "cell_type": "markdown",
   "metadata": {},
   "source": [
    "The example had a graphic - recreating that here:"
   ]
  },
  {
   "cell_type": "code",
   "execution_count": 7,
   "metadata": {},
   "outputs": [
    {
     "data": {
      "text/html": [
       "<style>div.sk-top-container {color: black;background-color: white;}div.sk-toggleable {background-color: white;}label.sk-toggleable__label {cursor: pointer;display: block;width: 100%;margin-bottom: 0;padding: 0.2em 0.3em;box-sizing: border-box;text-align: center;}div.sk-toggleable__content {max-height: 0;max-width: 0;overflow: hidden;text-align: left;background-color: #f0f8ff;}div.sk-toggleable__content pre {margin: 0.2em;color: black;border-radius: 0.25em;background-color: #f0f8ff;}input.sk-toggleable__control:checked~div.sk-toggleable__content {max-height: 200px;max-width: 100%;overflow: auto;}div.sk-estimator input.sk-toggleable__control:checked~label.sk-toggleable__label {background-color: #d4ebff;}div.sk-label input.sk-toggleable__control:checked~label.sk-toggleable__label {background-color: #d4ebff;}input.sk-hidden--visually {border: 0;clip: rect(1px 1px 1px 1px);clip: rect(1px, 1px, 1px, 1px);height: 1px;margin: -1px;overflow: hidden;padding: 0;position: absolute;width: 1px;}div.sk-estimator {font-family: monospace;background-color: #f0f8ff;margin: 0.25em 0.25em;border: 1px dotted black;border-radius: 0.25em;box-sizing: border-box;}div.sk-estimator:hover {background-color: #d4ebff;}div.sk-parallel-item::after {content: \"\";width: 100%;border-bottom: 1px solid gray;flex-grow: 1;}div.sk-label:hover label.sk-toggleable__label {background-color: #d4ebff;}div.sk-serial::before {content: \"\";position: absolute;border-left: 1px solid gray;box-sizing: border-box;top: 2em;bottom: 0;left: 50%;}div.sk-serial {display: flex;flex-direction: column;align-items: center;background-color: white;}div.sk-item {z-index: 1;}div.sk-parallel {display: flex;align-items: stretch;justify-content: center;background-color: white;}div.sk-parallel-item {display: flex;flex-direction: column;position: relative;background-color: white;}div.sk-parallel-item:first-child::after {align-self: flex-end;width: 50%;}div.sk-parallel-item:last-child::after {align-self: flex-start;width: 50%;}div.sk-parallel-item:only-child::after {width: 0;}div.sk-dashed-wrapped {border: 1px dashed gray;margin: 0.2em;box-sizing: border-box;padding-bottom: 0.1em;background-color: white;position: relative;}div.sk-label label {font-family: monospace;font-weight: bold;background-color: white;display: inline-block;line-height: 1.2em;}div.sk-label-container {position: relative;z-index: 2;text-align: center;}div.sk-container {display: inline-block;position: relative;}</style><div class=\"sk-top-container\"><div class=\"sk-container\"><div class=\"sk-item sk-dashed-wrapped\"><div class=\"sk-label-container\"><div class=\"sk-label sk-toggleable\"><input class=\"sk-toggleable__control sk-hidden--visually\" id=\"3cd0aa11-2d45-4801-860d-8803b9a2fe60\" type=\"checkbox\" ><label class=\"sk-toggleable__label\" for=\"3cd0aa11-2d45-4801-860d-8803b9a2fe60\">Pipeline</label><div class=\"sk-toggleable__content\"><pre>Pipeline(steps=[('preprocessor',\n",
       "                 ColumnTransformer(transformers=[('num', StandardScaler(),\n",
       "                                                  ['HHI', 'HHDL', 'CollegGrads',\n",
       "                                                   'AHHAge', 'Cars']),\n",
       "                                                 ('cat',\n",
       "                                                  OneHotEncoder(handle_unknown='ignore'),\n",
       "                                                  ['Married', 'Filed_2017',\n",
       "                                                   'Filed_2016',\n",
       "                                                   'Filed_2015'])])),\n",
       "                ('classifier',\n",
       "                 LogisticRegression(C=1, max_iter=500, solver='saga'))])</pre></div></div></div><div class=\"sk-serial\"><div class=\"sk-item sk-dashed-wrapped\"><div class=\"sk-label-container\"><div class=\"sk-label sk-toggleable\"><input class=\"sk-toggleable__control sk-hidden--visually\" id=\"42014e31-3435-4a5b-8cd7-41b824006160\" type=\"checkbox\" ><label class=\"sk-toggleable__label\" for=\"42014e31-3435-4a5b-8cd7-41b824006160\">preprocessor: ColumnTransformer</label><div class=\"sk-toggleable__content\"><pre>ColumnTransformer(transformers=[('num', StandardScaler(),\n",
       "                                 ['HHI', 'HHDL', 'CollegGrads', 'AHHAge',\n",
       "                                  'Cars']),\n",
       "                                ('cat', OneHotEncoder(handle_unknown='ignore'),\n",
       "                                 ['Married', 'Filed_2017', 'Filed_2016',\n",
       "                                  'Filed_2015'])])</pre></div></div></div><div class=\"sk-parallel\"><div class=\"sk-parallel-item\"><div class=\"sk-item\"><div class=\"sk-label-container\"><div class=\"sk-label sk-toggleable\"><input class=\"sk-toggleable__control sk-hidden--visually\" id=\"0da08c3f-d313-4fd9-b547-04307c87684b\" type=\"checkbox\" ><label class=\"sk-toggleable__label\" for=\"0da08c3f-d313-4fd9-b547-04307c87684b\">num</label><div class=\"sk-toggleable__content\"><pre>['HHI', 'HHDL', 'CollegGrads', 'AHHAge', 'Cars']</pre></div></div></div><div class=\"sk-serial\"><div class=\"sk-item\"><div class=\"sk-estimator sk-toggleable\"><input class=\"sk-toggleable__control sk-hidden--visually\" id=\"cfe00684-21fd-40ee-8a70-f44db83a5627\" type=\"checkbox\" ><label class=\"sk-toggleable__label\" for=\"cfe00684-21fd-40ee-8a70-f44db83a5627\">StandardScaler</label><div class=\"sk-toggleable__content\"><pre>StandardScaler()</pre></div></div></div></div></div></div><div class=\"sk-parallel-item\"><div class=\"sk-item\"><div class=\"sk-label-container\"><div class=\"sk-label sk-toggleable\"><input class=\"sk-toggleable__control sk-hidden--visually\" id=\"45eecaaa-3c74-43f1-8f31-e58dfa27f10f\" type=\"checkbox\" ><label class=\"sk-toggleable__label\" for=\"45eecaaa-3c74-43f1-8f31-e58dfa27f10f\">cat</label><div class=\"sk-toggleable__content\"><pre>['Married', 'Filed_2017', 'Filed_2016', 'Filed_2015']</pre></div></div></div><div class=\"sk-serial\"><div class=\"sk-item\"><div class=\"sk-estimator sk-toggleable\"><input class=\"sk-toggleable__control sk-hidden--visually\" id=\"61c417a1-f0a5-48f2-af9f-20ebffdb629e\" type=\"checkbox\" ><label class=\"sk-toggleable__label\" for=\"61c417a1-f0a5-48f2-af9f-20ebffdb629e\">OneHotEncoder</label><div class=\"sk-toggleable__content\"><pre>OneHotEncoder(handle_unknown='ignore')</pre></div></div></div></div></div></div></div></div><div class=\"sk-item\"><div class=\"sk-estimator sk-toggleable\"><input class=\"sk-toggleable__control sk-hidden--visually\" id=\"6a47f4cb-2b54-4803-947e-a63e773a0ed4\" type=\"checkbox\" ><label class=\"sk-toggleable__label\" for=\"6a47f4cb-2b54-4803-947e-a63e773a0ed4\">LogisticRegression</label><div class=\"sk-toggleable__content\"><pre>LogisticRegression(C=1, max_iter=500, solver='saga')</pre></div></div></div></div></div></div></div>"
      ],
      "text/plain": [
       "Pipeline(steps=[('preprocessor',\n",
       "                 ColumnTransformer(transformers=[('num', StandardScaler(),\n",
       "                                                  ['HHI', 'HHDL', 'CollegGrads',\n",
       "                                                   'AHHAge', 'Cars']),\n",
       "                                                 ('cat',\n",
       "                                                  OneHotEncoder(handle_unknown='ignore'),\n",
       "                                                  ['Married', 'Filed_2017',\n",
       "                                                   'Filed_2016',\n",
       "                                                   'Filed_2015'])])),\n",
       "                ('classifier',\n",
       "                 LogisticRegression(C=1, max_iter=500, solver='saga'))])"
      ]
     },
     "execution_count": 7,
     "metadata": {},
     "output_type": "execute_result"
    }
   ],
   "source": [
    "from sklearn import set_config\n",
    "\n",
    "set_config(display='diagram')\n",
    "clf_saga"
   ]
  },
  {
   "cell_type": "markdown",
   "metadata": {},
   "source": [
    "## Data Partition"
   ]
  },
  {
   "cell_type": "code",
   "execution_count": 8,
   "metadata": {},
   "outputs": [],
   "source": [
    "X = tax_df.iloc[:, 0:9]\n",
    "y = tax_df.iloc[:, 9]\n",
    "\n",
    "X_train, X_test, y_train, y_test = train_test_split(X, y, test_size=0.2, random_state=21)"
   ]
  },
  {
   "cell_type": "markdown",
   "metadata": {},
   "source": [
    "## Logistic Regression"
   ]
  },
  {
   "cell_type": "code",
   "execution_count": 9,
   "metadata": {},
   "outputs": [
    {
     "name": "stdout",
     "output_type": "stream",
     "text": [
      "Lib Linear\n",
      "Training score: 0.390\n",
      "Test score: 0.308\n",
      "lbfgs\n",
      "Training score: 0.390\n",
      "Test score: 0.313\n",
      "Newton\n",
      "Training score: 0.390\n",
      "Test score: 0.313\n",
      "SAG\n",
      "Training score: 0.390\n",
      "Test score: 0.313\n",
      "SAGA\n",
      "Training score: 0.390\n",
      "Test score: 0.313\n"
     ]
    }
   ],
   "source": [
    "clf_liblinear.fit(X_train, y_train)\n",
    "print('Lib Linear')\n",
    "print(f\"Training score: {clf_liblinear.score(X_train, y_train):.3f}\")\n",
    "print(f\"Test score: {clf_liblinear.score(X_test, y_test):.3f}\")\n",
    "\n",
    "clf_lbfgs.fit(X_train, y_train)\n",
    "print('lbfgs')\n",
    "print(f\"Training score: {clf_lbfgs.score(X_train, y_train):.3f}\")\n",
    "print(f\"Test score: {clf_lbfgs.score(X_test, y_test):.3f}\")\n",
    "\n",
    "clf_newton.fit(X_train, y_train)\n",
    "print('Newton')\n",
    "print(f\"Training score: {clf_newton.score(X_train, y_train):.3f}\")\n",
    "print(f\"Test score: {clf_newton.score(X_test, y_test):.3f}\")\n",
    "\n",
    "clf_sag.fit(X_train, y_train)\n",
    "print('SAG')\n",
    "print(f\"Training score: {clf_sag.score(X_train, y_train):.3f}\")\n",
    "print(f\"Test score: {clf_sag.score(X_test, y_test):.3f}\")\n",
    "\n",
    "clf_saga.fit(X_train, y_train)\n",
    "print('SAGA')\n",
    "print(f\"Training score: {clf_saga.score(X_train, y_train):.3f}\")\n",
    "print(f\"Test score: {clf_saga.score(X_test, y_test):.3f}\")\n"
   ]
  },
  {
   "cell_type": "markdown",
   "metadata": {},
   "source": [
    "## Confusion Matrix"
   ]
  },
  {
   "cell_type": "code",
   "execution_count": 10,
   "metadata": {},
   "outputs": [
    {
     "name": "stdout",
     "output_type": "stream",
     "text": [
      "Confusion matrix for train, without normalization\n",
      "[[110  82  75]\n",
      " [ 80 109  77]\n",
      " [ 89  87  94]]\n",
      "Normalized confusion matrix for train\n",
      "[[0.41198502 0.3071161  0.28089888]\n",
      " [0.30075188 0.40977444 0.28947368]\n",
      " [0.32962963 0.32222222 0.34814815]]\n"
     ]
    },
    {
     "data": {
      "image/png": "[encoded data removed]",
      "text/plain": [
       "<Figure size 432x288 with 2 Axes>"
      ]
     },
     "metadata": {
      "needs_background": "light"
     },
     "output_type": "display_data"
    },
    {
     "data": {
      "image/png": "[encoded data removed]",
      "text/plain": [
       "<Figure size 432x288 with 2 Axes>"
      ]
     },
     "metadata": {
      "needs_background": "light"
     },
     "output_type": "display_data"
    }
   ],
   "source": [
    "\n",
    "\n",
    "titles_options = [(\"Confusion matrix for train, without normalization\", None),\n",
    "                  (\"Normalized confusion matrix for train\", 'true')]\n",
    "\n",
    "\n",
    "class_names = clf_lbfgs['classifier'].classes_\n",
    "\n",
    "for title, normalize in titles_options:\n",
    "    disp = plot_confusion_matrix(clf_lbfgs, X_train, y_train,\n",
    "                                 display_labels=class_names,\n",
    "                                 cmap=plt.cm.Blues,\n",
    "                                 normalize=normalize)\n",
    "    disp.ax_.set_title(title)\n",
    "\n",
    "    print(title)\n",
    "    print(disp.confusion_matrix)\n",
    "\n",
    "plt.show()"
   ]
  },
  {
   "cell_type": "markdown",
   "metadata": {},
   "source": [
    "## Thoughts\n",
    "\n",
    "There wasnt much difference between the different penalities applied.  For robustness, I continued with the lbfgs.  If I understand the score correctly, then I am a bit disappoined.  Less than half the time the prediction was correct?  That doesnt seem too good.  This indicates that another model - or an ensemble model is probably required.  It might even be worse - the input data may not be the right data required to predict the party. "
   ]
  },
  {
   "cell_type": "markdown",
   "metadata": {},
   "source": [
    "## Random Forest Model"
   ]
  },
  {
   "cell_type": "code",
   "execution_count": 11,
   "metadata": {},
   "outputs": [
    {
     "name": "stdout",
     "output_type": "stream",
     "text": [
      "Training score: 1.000\n",
      "Test score: 0.338\n"
     ]
    }
   ],
   "source": [
    "from sklearn.ensemble import RandomForestClassifier\n",
    "\n",
    "preprocessor = ColumnTransformer(\n",
    "    transformers=[\n",
    "        ('num', numeric_transformer, numeric_cols),\n",
    "        ('cat', categorical_transformer, categorical_cols)])\n",
    "\n",
    "# Append random forest classifier to preprocessing pipeline.\n",
    "clf_rf = Pipeline(steps=[('preprocessor', preprocessor),\n",
    "                      ('classifier', RandomForestClassifier(oob_score=True, random_state=0))])\n",
    "\n",
    "clf_rf.fit(X_train, y_train)\n",
    "\n",
    "print(f\"Training score: {clf_rf.score(X_train, y_train):.3f}\")\n",
    "print(f\"Test score: {clf_rf.score(X_test, y_test):.3f}\")\n"
   ]
  },
  {
   "cell_type": "markdown",
   "metadata": {},
   "source": [
    "## Confusion Matrix\n"
   ]
  },
  {
   "cell_type": "code",
   "execution_count": 12,
   "metadata": {},
   "outputs": [
    {
     "name": "stdout",
     "output_type": "stream",
     "text": [
      "Confusion matrix for train, without normalization\n",
      "[[267   0   0]\n",
      " [  0 266   0]\n",
      " [  0   0 270]]\n",
      "Normalized confusion matrix for train\n",
      "[[1. 0. 0.]\n",
      " [0. 1. 0.]\n",
      " [0. 0. 1.]]\n"
     ]
    },
    {
     "data": {
      "image/png": "[encoded data removed]",
      "text/plain": [
       "<Figure size 432x288 with 2 Axes>"
      ]
     },
     "metadata": {
      "needs_background": "light"
     },
     "output_type": "display_data"
    },
    {
     "data": {
      "image/png": "[encoded data removed]",
      "text/plain": [
       "<Figure size 432x288 with 2 Axes>"
      ]
     },
     "metadata": {
      "needs_background": "light"
     },
     "output_type": "display_data"
    }
   ],
   "source": [
    "titles_options = [(\"Confusion matrix for train, without normalization\", None),\n",
    "                  (\"Normalized confusion matrix for train\", 'true')]\n",
    "\n",
    "\n",
    "class_names = clf_rf['classifier'].classes_\n",
    "\n",
    "for title, normalize in titles_options:\n",
    "    disp = plot_confusion_matrix(clf_rf, X_train, y_train,\n",
    "                                 display_labels=class_names,\n",
    "                                 cmap=plt.cm.Blues,\n",
    "                                 normalize=normalize)\n",
    "    disp.ax_.set_title(title)\n",
    "\n",
    "    print(title)\n",
    "    print(disp.confusion_matrix)\n",
    "\n",
    "plt.show()"
   ]
  },
  {
   "cell_type": "markdown",
   "metadata": {},
   "source": [
    "## Thoughts\n",
    "The training score of 1 indicates some overfitting to me.  Especially when the test score was close to the test score of the regression model.  I was expecting the random forest to perform a little better."
   ]
  },
  {
   "cell_type": "markdown",
   "metadata": {},
   "source": [
    "## Filed_2017 as Binary Target"
   ]
  },
  {
   "cell_type": "code",
   "execution_count": 13,
   "metadata": {},
   "outputs": [
    {
     "name": "stdout",
     "output_type": "stream",
     "text": [
      "Filed_2017 Target\n",
      "Regression Training score: 0.553\n",
      "Regression Test score: 0.537\n"
     ]
    }
   ],
   "source": [
    "numeric_cols17 = ['HHI', 'HHDL', 'CollegGrads', 'AHHAge', 'Cars']\n",
    "categorical_cols17 = ['Married', 'PoliticalParty', 'Filed_2016', 'Filed_2015']\n",
    "\n",
    "preprocessor17 = ColumnTransformer(\n",
    "    transformers=[\n",
    "        ('num', numeric_transformer, numeric_cols17),\n",
    "        ('cat', categorical_transformer, categorical_cols17)])\n",
    "\n",
    "clf_model_lbfgs17 = LogisticRegression(penalty='l2', C=1, solver='lbfgs', max_iter=500)\n",
    "\n",
    "clf_lbfgs17 = Pipeline(steps=[('preprocessor', preprocessor17),\n",
    "                      ('classifier', clf_model_lbfgs17)])\n",
    "\n",
    "dfT1 = tax_df.iloc[:, 0:6]\n",
    "dfT2 = tax_df.iloc[:, 7:10]\n",
    "\n",
    "X17 = tax_df.iloc[:, np.r_[0:6, 7:10]]\n",
    "\n",
    "y17 = tax_df.iloc[:, 6]\n",
    "\n",
    "X_train17, X_test17, y_train17, y_test17 = train_test_split(X17, y17, test_size=0.2, random_state=21)\n",
    "\n",
    "clf_lbfgs17.fit(X_train17, y_train17)\n",
    "print('Filed_2017 Target')\n",
    "print(f\"Regression Training score: {clf_lbfgs17.score(X_train17, y_train17):.3f}\")\n",
    "print(f\"Regression Test score: {clf_lbfgs17.score(X_test17, y_test17):.3f}\")"
   ]
  },
  {
   "cell_type": "code",
   "execution_count": 14,
   "metadata": {},
   "outputs": [
    {
     "name": "stdout",
     "output_type": "stream",
     "text": [
      "RF Training score: 1.000\n",
      "RF Test score: 0.542\n"
     ]
    }
   ],
   "source": [
    "clf_rf17 = Pipeline(steps=[('preprocessor', preprocessor17),\n",
    "                      ('classifier', RandomForestClassifier(oob_score=True, random_state=0))])\n",
    "\n",
    "clf_rf17.fit(X_train17, y_train17)\n",
    "\n",
    "print(f\"RF Training score: {clf_rf17.score(X_train17, y_train17):.3f}\")\n",
    "print(f\"RF Test score: {clf_rf17.score(X_test17, y_test17):.3f}\")"
   ]
  },
  {
   "cell_type": "markdown",
   "metadata": {},
   "source": [
    "## Thoughts\n",
    "\n",
    "The score was better for both the regression and the random forest. This makes sense because since it is only trying to predict between two choices instead of three."
   ]
  }
 ],
 "metadata": {
  "kernelspec": {
   "display_name": "Python 3",
   "language": "python",
   "name": "python3"
  },
  "language_info": {
   "codemirror_mode": {
    "name": "ipython",
    "version": 3
   },
   "file_extension": ".py",
   "mimetype": "text/x-python",
   "name": "python",
   "nbconvert_exporter": "python",
   "pygments_lexer": "ipython3",
   "version": "3.8.5"
  },
  "toc-autonumbering": true
 },
 "nbformat": 4,
 "nbformat_minor": 4
}
