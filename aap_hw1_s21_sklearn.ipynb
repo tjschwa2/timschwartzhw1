{
 "cells": [
  {
   "cell_type": "code",
   "execution_count": 1,
   "metadata": {},
   "outputs": [],
   "source": [
    "import numpy as np\n",
    "import pandas as pd\n",
    "import matplotlib.pyplot as plt\n",
    "import seaborn as sns"
   ]
  },
  {
   "cell_type": "code",
   "execution_count": 2,
   "metadata": {},
   "outputs": [],
   "source": [
    "%matplotlib inline"
   ]
  },
  {
   "cell_type": "markdown",
   "metadata": {},
   "source": [
    "# HW1 - Classification models in sklearn\n",
    "\n",
    "You'll be building a few classifier models and using some of the tech tools we learned about in Modules 1 and 2. \n",
    "\n",
    "## The Data\n",
    "\n",
    "The data is a relatively small and simple dataset of taxpayer data. I got it from:\n",
    "\n",
    "https://www.kaggle.com/dmaillie/sample-us-taxpayer-dataset\n",
    "\n",
    "As you'll see if you visit that page, this dataset was used in a series of YouTube tutorials on using R to build random forest models. \n",
    "\n",
    "I read it into a pandas dataframe and used `info()` to get:\n",
    "\n",
    "```\n",
    "<class 'pandas.core.frame.DataFrame'>\n",
    "RangeIndex: 1004 entries, 0 to 1003\n",
    "Data columns (total 10 columns):\n",
    " #   Column          Non-Null Count  Dtype \n",
    "---  ------          --------------  ----- \n",
    " 0   HHI             1004 non-null   int64 \n",
    " 1   HHDL            1004 non-null   int64 \n",
    " 2   Married         1004 non-null   int64 \n",
    " 3   CollegGrads     1004 non-null   int64 \n",
    " 4   AHHAge          1004 non-null   int64 \n",
    " 5   Cars            1004 non-null   int64 \n",
    " 6   Filed_2017      1004 non-null   int64 \n",
    " 7   Filed_2016      1004 non-null   int64 \n",
    " 8   Filed_2015      1004 non-null   int64 \n",
    " 9   PoliticalParty  1004 non-null   object\n",
    "dtypes: int64(9), object(1)\n",
    "memory usage: 78.6+ KB\n",
    "```\n",
    "\n",
    "Some information about the fields:\n",
    "\n",
    "* `HHI` - household income\n",
    "* `HHDL` - household debt level\n",
    "* `Married` - categorical with a few levels\n",
    "* `CollegGrads` - number of college grads in the household\n",
    "* `AHHAge` - average age of people in the household\n",
    "* `Cars` - number of cars in the household\n",
    "* `Filed_2017` - 1 means they filed a tax return with the IRS for 2017\n",
    "* `Filed_2016` - 1 means they filed a tax return with the IRS for 2016\n",
    "* `Filed_2015` - 1 means they filed a tax return with the IRS for 2015\n",
    "* `PoliticalParty` - categorical with 3 levels"
   ]
  },
  {
   "cell_type": "markdown",
   "metadata": {},
   "source": [
    "## The Problem\n",
    "\n",
    "Our overall goal is to build classifier models to predict `PoliticalParty` using the the other variables. You must use sklearn Pipelines that contain your preprocessing steps and your model estimation step.\n",
    "\n",
    "You can do your work in a Jupyter Notebook(s) or in a Python script(s) (i.e. a ``.py`` file) or both. It's up to you.\n",
    "\n",
    "### Task 1\n",
    "\n",
    "Start by creating a new project folder structure with the cookiecutter-datascience-simple template that I covered in Module 1. Put the data file into its appropriate folder and put this notebook in the main project folder. Any additional notebooks and/or Python files you end up creating should go in the main project folder. \n",
    "\n",
    "### Task 2\n",
    "\n",
    "Put your new project folder under version control using git. You should **NOT** track the data file. You must track any notebooks, Python scripts or additional text files you end up creating.\n",
    "\n",
    "### Task 3\n",
    "\n",
    "Build at least one logistic regression model (with regularization) and one random forest model to predict `PoliticalParty`. Yes, this is very similar to what we did for the Pump it Up project in Module 2. Some detailed requirements and additional information:\n",
    "\n",
    "* I suggest you start by reading the csv file into a pandas dataframe. My dataframe is called ``tax_df``.\n",
    "* Then start with some basic EDA. You can certainly use automated tools such as pandas-profiling or SweetViz as I showed in the class notes. Remember, when you run either of those, you **must** have your notebook open in the classic Jupyter Notebook interface (and **NOT** in Jupyter Lab). Once you've created the EDA reports you can close your notebook and reopen in Jupyter Lab if you wish. As we've seen, the reports get created as HTML documents. These should go in your output folder within your project.\n",
    "* Since we are using regularization, all of the numeric variables should be rescaled using the `StandardScaler` - be careful, just because a variable has a numeric datatype in the pandas dataframe, it does not mean that it's necessarily a numeric variable in the context of the classification models. Think about each column and look at your EDA reports and decide whether or not it's truly numeric or needs to be treated as categorical data in the models.\n",
    "* For any variables that you decide should be treated as categorical in your models, use the `OneHotEncoder` on them in the preprocessing stage.\n",
    "* Even though our target variable, `PoliticalParty`, is categorical, you do **NOT** need to do any preprocessing on it. As I mentioned in our class notes, scikit-learn will automatically detect that and will do any encoding needed on its own (it uses the `LabelEncoder`).\n",
    "* I broke up the ``tax_df`` into two separate dataframes that I called ``X`` and ``y``, to use in the models. Here's my code for that:\n",
    "\n",
    "```\n",
    "X = tax_df.iloc[:, 0:9]\n",
    "y = tax_df.iloc[:, 9]\n",
    "```\n",
    "\n",
    "* Please use the following code for your data partitioning so that we all end up with the same training and test split:\n",
    "\n",
    "```\n",
    "X_train, X_test, y_train, y_test = train_test_split(X, y, test_size=0.2, random_state=21)\n",
    "```\n",
    "\n",
    "* For each model you fit, you should compute its ``score`` and create a confusion matrix on both train and test data. I did all of this repeatedly in the class notes.\n",
    "* For each model (the logistic regression model and the random forest) you should make some summary comments about how well the model fits and predicts and if there is evidence of overfitting. \n",
    "\n",
    "**IMPORTANT** You always should put summary comments in a markdown cell. Do **NOT** write them as comments in a code cell. The whole point of Jupyter notebooks is to be able to mix markdown cells with code cells. If you choose to do all of your Python work in a ``.py`` file(s), then simple create a Jupyter notebook in which you include your summary comments."
   ]
  },
  {
   "cell_type": "markdown",
   "metadata": {},
   "source": [
    "## Optional Hacker Extra tasks\n",
    "I always like to include some extra credit tasks for those who want to push themselves a little further. For this problem, consider doing one or more of the following:\n",
    "\n",
    "* Try out the Histogram based Gradient Boosting Classifier shown in the optional materials at the end of Module 2. Compare its performance to logistic regression and the random forest.\n",
    "* Create a second set of models in which you treat ``Filed_2017`` as a binary target variable and use ``PoliticalParty`` as a categorical feature variable. Is it any easier to predict ``Filed_2017`` than it was to predict ``PoliticalParty``?"
   ]
  },
  {
   "cell_type": "markdown",
   "metadata": {},
   "source": [
    "## Deliverables\n",
    "You should simply compress your entire project folder as either a zip file or a tar.gz file (do **NOT** ever use WinRAR to create rar files in this class). Note that when you do this, your \"hidden\" ``.git`` folder will get included. So, I'll be able to tell that you put the project under version control and I'll be able to look at your project folder structure. Before compressing the project folder to submit it:\n",
    "\n",
    "* make sure all of your notebooks and .py files are in the main project folder and have good filenames,\n",
    "* make sure you've committed all of your changes (git),\n",
    "* upload your compressed folder in Moodle."
   ]
  },
  {
   "cell_type": "code",
   "execution_count": null,
   "metadata": {},
   "outputs": [],
   "source": []
  }
 ],
 "metadata": {
  "kernelspec": {
   "display_name": "Python 3",
   "language": "python",
   "name": "python3"
  },
  "language_info": {
   "codemirror_mode": {
    "name": "ipython",
    "version": 3
   },
   "file_extension": ".py",
   "mimetype": "text/x-python",
   "name": "python",
   "nbconvert_exporter": "python",
   "pygments_lexer": "ipython3",
   "version": "3.8.5"
  }
 },
 "nbformat": 4,
 "nbformat_minor": 5
}
